{
 "cells": [
  {
   "cell_type": "code",
   "execution_count": 123,
   "metadata": {},
   "outputs": [],
   "source": [
    "from numpy import genfromtxt\n",
    "import pandas as pd\n",
    "import numpy as np"
   ]
  },
  {
   "cell_type": "code",
   "execution_count": 124,
   "metadata": {},
   "outputs": [],
   "source": [
    "def load_data_file(path=\"../data/orders.csv\"):\n",
    "    return pd.read_csv(path,sep=\",\",header=0)"
   ]
  },
  {
   "cell_type": "code",
   "execution_count": 125,
   "metadata": {},
   "outputs": [],
   "source": [
    "dataset_ori = load_data_file()\n",
    "dataset = dataset_ori.copy()"
   ]
  },
  {
   "cell_type": "code",
   "execution_count": 126,
   "metadata": {},
   "outputs": [
    {
     "data": {
      "text/html": [
       "<div>\n",
       "<style scoped>\n",
       "    .dataframe tbody tr th:only-of-type {\n",
       "        vertical-align: middle;\n",
       "    }\n",
       "\n",
       "    .dataframe tbody tr th {\n",
       "        vertical-align: top;\n",
       "    }\n",
       "\n",
       "    .dataframe thead th {\n",
       "        text-align: right;\n",
       "    }\n",
       "</style>\n",
       "<table border=\"1\" class=\"dataframe\">\n",
       "  <thead>\n",
       "    <tr style=\"text-align: right;\">\n",
       "      <th></th>\n",
       "      <th>customer_id</th>\n",
       "      <th>order_id</th>\n",
       "      <th>order_item_id</th>\n",
       "      <th>num_items</th>\n",
       "      <th>revenue</th>\n",
       "      <th>created_at_date</th>\n",
       "    </tr>\n",
       "  </thead>\n",
       "  <tbody>\n",
       "    <tr>\n",
       "      <th>0</th>\n",
       "      <td>37d67f5feef4cb754056a54841e43ad9</td>\n",
       "      <td>4662083</td>\n",
       "      <td>21257304.0</td>\n",
       "      <td>1.0</td>\n",
       "      <td>24.79</td>\n",
       "      <td>2017-09-01</td>\n",
       "    </tr>\n",
       "    <tr>\n",
       "      <th>1</th>\n",
       "      <td>d0d7a76fea3729a9381d39aca78b52d3</td>\n",
       "      <td>4655291</td>\n",
       "      <td>21224156.0</td>\n",
       "      <td>1.0</td>\n",
       "      <td>22.68</td>\n",
       "      <td>2017-09-01</td>\n",
       "    </tr>\n",
       "    <tr>\n",
       "      <th>2</th>\n",
       "      <td>450e1c2cbd21687780153995f1be0c23</td>\n",
       "      <td>4661361</td>\n",
       "      <td>21253627.0</td>\n",
       "      <td>1.0</td>\n",
       "      <td>10.07</td>\n",
       "      <td>2017-09-01</td>\n",
       "    </tr>\n",
       "    <tr>\n",
       "      <th>3</th>\n",
       "      <td>1b9131d69fb9745f0c22e22c6d55437f</td>\n",
       "      <td>4656415</td>\n",
       "      <td>21229235.0</td>\n",
       "      <td>1.0</td>\n",
       "      <td>7.37</td>\n",
       "      <td>2017-09-01</td>\n",
       "    </tr>\n",
       "    <tr>\n",
       "      <th>4</th>\n",
       "      <td>03c9fd0e00e2cef5d72d0af8e869aabe</td>\n",
       "      <td>4658541</td>\n",
       "      <td>21239714.0</td>\n",
       "      <td>1.0</td>\n",
       "      <td>16.66</td>\n",
       "      <td>2017-09-01</td>\n",
       "    </tr>\n",
       "  </tbody>\n",
       "</table>\n",
       "</div>"
      ],
      "text/plain": [
       "                        customer_id  order_id  order_item_id  num_items  \\\n",
       "0  37d67f5feef4cb754056a54841e43ad9   4662083     21257304.0        1.0   \n",
       "1  d0d7a76fea3729a9381d39aca78b52d3   4655291     21224156.0        1.0   \n",
       "2  450e1c2cbd21687780153995f1be0c23   4661361     21253627.0        1.0   \n",
       "3  1b9131d69fb9745f0c22e22c6d55437f   4656415     21229235.0        1.0   \n",
       "4  03c9fd0e00e2cef5d72d0af8e869aabe   4658541     21239714.0        1.0   \n",
       "\n",
       "   revenue created_at_date  \n",
       "0    24.79      2017-09-01  \n",
       "1    22.68      2017-09-01  \n",
       "2    10.07      2017-09-01  \n",
       "3     7.37      2017-09-01  \n",
       "4    16.66      2017-09-01  "
      ]
     },
     "execution_count": 126,
     "metadata": {},
     "output_type": "execute_result"
    }
   ],
   "source": [
    "dataset_ori.head(5)"
   ]
  },
  {
   "cell_type": "markdown",
   "metadata": {},
   "source": [
    "Max​ ​number​ ​of​ ​items​ ​in​ ​one​ ​order:​ ​if​ ​a​ ​customer​ ​has​ ​more​ ​than​ ​one​ ​order,​ ​take \n",
    "the​ ​one​ ​with​ ​more​ ​items.  "
   ]
  },
  {
   "cell_type": "code",
   "execution_count": 127,
   "metadata": {},
   "outputs": [],
   "source": [
    "dataset_max_num_items = dataset.groupby(['customer_id','order_id'])['num_items'].max()"
   ]
  },
  {
   "cell_type": "code",
   "execution_count": 128,
   "metadata": {},
   "outputs": [
    {
     "data": {
      "text/html": [
       "<div>\n",
       "<style scoped>\n",
       "    .dataframe tbody tr th:only-of-type {\n",
       "        vertical-align: middle;\n",
       "    }\n",
       "\n",
       "    .dataframe tbody tr th {\n",
       "        vertical-align: top;\n",
       "    }\n",
       "\n",
       "    .dataframe thead th {\n",
       "        text-align: right;\n",
       "    }\n",
       "</style>\n",
       "<table border=\"1\" class=\"dataframe\">\n",
       "  <thead>\n",
       "    <tr style=\"text-align: right;\">\n",
       "      <th></th>\n",
       "      <th>customer_id</th>\n",
       "      <th>order_id</th>\n",
       "      <th>order_item_id</th>\n",
       "      <th>num_items</th>\n",
       "      <th>revenue</th>\n",
       "      <th>created_at_date</th>\n",
       "      <th>num_items_sum</th>\n",
       "    </tr>\n",
       "  </thead>\n",
       "  <tbody>\n",
       "    <tr>\n",
       "      <th>0</th>\n",
       "      <td>37d67f5feef4cb754056a54841e43ad9</td>\n",
       "      <td>4662083</td>\n",
       "      <td>21257304.0</td>\n",
       "      <td>1.0</td>\n",
       "      <td>24.79</td>\n",
       "      <td>2017-09-01</td>\n",
       "      <td>1.0</td>\n",
       "    </tr>\n",
       "    <tr>\n",
       "      <th>1</th>\n",
       "      <td>d0d7a76fea3729a9381d39aca78b52d3</td>\n",
       "      <td>4655291</td>\n",
       "      <td>21224156.0</td>\n",
       "      <td>1.0</td>\n",
       "      <td>22.68</td>\n",
       "      <td>2017-09-01</td>\n",
       "      <td>1.0</td>\n",
       "    </tr>\n",
       "    <tr>\n",
       "      <th>2</th>\n",
       "      <td>450e1c2cbd21687780153995f1be0c23</td>\n",
       "      <td>4661361</td>\n",
       "      <td>21253627.0</td>\n",
       "      <td>1.0</td>\n",
       "      <td>10.07</td>\n",
       "      <td>2017-09-01</td>\n",
       "      <td>2.0</td>\n",
       "    </tr>\n",
       "  </tbody>\n",
       "</table>\n",
       "</div>"
      ],
      "text/plain": [
       "                        customer_id  order_id  order_item_id  num_items  \\\n",
       "0  37d67f5feef4cb754056a54841e43ad9   4662083     21257304.0        1.0   \n",
       "1  d0d7a76fea3729a9381d39aca78b52d3   4655291     21224156.0        1.0   \n",
       "2  450e1c2cbd21687780153995f1be0c23   4661361     21253627.0        1.0   \n",
       "\n",
       "   revenue created_at_date  num_items_sum  \n",
       "0    24.79      2017-09-01            1.0  \n",
       "1    22.68      2017-09-01            1.0  \n",
       "2    10.07      2017-09-01            2.0  "
      ]
     },
     "execution_count": 128,
     "metadata": {},
     "output_type": "execute_result"
    }
   ],
   "source": [
    "dataset = dataset.join(dataset_max_num_items, ['customer_id','order_id'], rsuffix=\"_sum\")\n",
    "dataset.head(3)"
   ]
  },
  {
   "cell_type": "markdown",
   "metadata": {},
   "source": [
    "Max​ ​revenue​ ​in​ ​one​ ​order:​ ​if​ ​a​ ​customer​ ​has​ ​more​ ​than​ ​one​ ​order,​ ​take​ ​the​ ​one \n",
    "with​ ​largest​ ​revenue. "
   ]
  },
  {
   "cell_type": "code",
   "execution_count": 129,
   "metadata": {},
   "outputs": [],
   "source": [
    "dataset_max_revenue = dataset.groupby(['customer_id','order_id'])['revenue'].max()"
   ]
  },
  {
   "cell_type": "code",
   "execution_count": 130,
   "metadata": {},
   "outputs": [
    {
     "data": {
      "text/plain": [
       "customer_id                       order_id\n",
       "000011265b8a3727c4cc77b494134aca  4863832     42.01\n",
       "000079318ce4bdc1897a9c711e107b55  4981158     21.00\n",
       "0000e349e3d5eb96a2dc1939beebf9e4  4967674     20.82\n",
       "Name: revenue, dtype: float64"
      ]
     },
     "execution_count": 130,
     "metadata": {},
     "output_type": "execute_result"
    }
   ],
   "source": [
    "dataset_max_revenue.head(3)"
   ]
  },
  {
   "cell_type": "code",
   "execution_count": 131,
   "metadata": {},
   "outputs": [
    {
     "data": {
      "text/html": [
       "<div>\n",
       "<style scoped>\n",
       "    .dataframe tbody tr th:only-of-type {\n",
       "        vertical-align: middle;\n",
       "    }\n",
       "\n",
       "    .dataframe tbody tr th {\n",
       "        vertical-align: top;\n",
       "    }\n",
       "\n",
       "    .dataframe thead th {\n",
       "        text-align: right;\n",
       "    }\n",
       "</style>\n",
       "<table border=\"1\" class=\"dataframe\">\n",
       "  <thead>\n",
       "    <tr style=\"text-align: right;\">\n",
       "      <th></th>\n",
       "      <th>customer_id</th>\n",
       "      <th>order_id</th>\n",
       "      <th>order_item_id</th>\n",
       "      <th>num_items</th>\n",
       "      <th>revenue</th>\n",
       "      <th>created_at_date</th>\n",
       "      <th>num_items_sum</th>\n",
       "      <th>revenue_max</th>\n",
       "    </tr>\n",
       "  </thead>\n",
       "  <tbody>\n",
       "    <tr>\n",
       "      <th>0</th>\n",
       "      <td>37d67f5feef4cb754056a54841e43ad9</td>\n",
       "      <td>4662083</td>\n",
       "      <td>21257304.0</td>\n",
       "      <td>1.0</td>\n",
       "      <td>24.79</td>\n",
       "      <td>2017-09-01</td>\n",
       "      <td>1.0</td>\n",
       "      <td>24.79</td>\n",
       "    </tr>\n",
       "    <tr>\n",
       "      <th>1</th>\n",
       "      <td>d0d7a76fea3729a9381d39aca78b52d3</td>\n",
       "      <td>4655291</td>\n",
       "      <td>21224156.0</td>\n",
       "      <td>1.0</td>\n",
       "      <td>22.68</td>\n",
       "      <td>2017-09-01</td>\n",
       "      <td>1.0</td>\n",
       "      <td>22.68</td>\n",
       "    </tr>\n",
       "    <tr>\n",
       "      <th>2</th>\n",
       "      <td>450e1c2cbd21687780153995f1be0c23</td>\n",
       "      <td>4661361</td>\n",
       "      <td>21253627.0</td>\n",
       "      <td>1.0</td>\n",
       "      <td>10.07</td>\n",
       "      <td>2017-09-01</td>\n",
       "      <td>2.0</td>\n",
       "      <td>21.00</td>\n",
       "    </tr>\n",
       "    <tr>\n",
       "      <th>3</th>\n",
       "      <td>1b9131d69fb9745f0c22e22c6d55437f</td>\n",
       "      <td>4656415</td>\n",
       "      <td>21229235.0</td>\n",
       "      <td>1.0</td>\n",
       "      <td>7.37</td>\n",
       "      <td>2017-09-01</td>\n",
       "      <td>1.0</td>\n",
       "      <td>7.37</td>\n",
       "    </tr>\n",
       "    <tr>\n",
       "      <th>4</th>\n",
       "      <td>03c9fd0e00e2cef5d72d0af8e869aabe</td>\n",
       "      <td>4658541</td>\n",
       "      <td>21239714.0</td>\n",
       "      <td>1.0</td>\n",
       "      <td>16.66</td>\n",
       "      <td>2017-09-01</td>\n",
       "      <td>1.0</td>\n",
       "      <td>23.32</td>\n",
       "    </tr>\n",
       "  </tbody>\n",
       "</table>\n",
       "</div>"
      ],
      "text/plain": [
       "                        customer_id  order_id  order_item_id  num_items  \\\n",
       "0  37d67f5feef4cb754056a54841e43ad9   4662083     21257304.0        1.0   \n",
       "1  d0d7a76fea3729a9381d39aca78b52d3   4655291     21224156.0        1.0   \n",
       "2  450e1c2cbd21687780153995f1be0c23   4661361     21253627.0        1.0   \n",
       "3  1b9131d69fb9745f0c22e22c6d55437f   4656415     21229235.0        1.0   \n",
       "4  03c9fd0e00e2cef5d72d0af8e869aabe   4658541     21239714.0        1.0   \n",
       "\n",
       "   revenue created_at_date  num_items_sum  revenue_max  \n",
       "0    24.79      2017-09-01            1.0        24.79  \n",
       "1    22.68      2017-09-01            1.0        22.68  \n",
       "2    10.07      2017-09-01            2.0        21.00  \n",
       "3     7.37      2017-09-01            1.0         7.37  \n",
       "4    16.66      2017-09-01            1.0        23.32  "
      ]
     },
     "execution_count": 131,
     "metadata": {},
     "output_type": "execute_result"
    }
   ],
   "source": [
    "dataset=dataset.join(dataset_max_revenue,['customer_id','order_id'], rsuffix=\"_max\")\n",
    "dataset.head(5)"
   ]
  },
  {
   "cell_type": "markdown",
   "metadata": {},
   "source": [
    "Total​ ​revenue​ ​of​ ​a​ ​customer:​ ​including​ ​all​ ​orders  "
   ]
  },
  {
   "cell_type": "code",
   "execution_count": 132,
   "metadata": {},
   "outputs": [],
   "source": [
    "total_revenue_each_costumer = dataset.groupby('customer_id')['revenue'].sum()"
   ]
  },
  {
   "cell_type": "code",
   "execution_count": 133,
   "metadata": {},
   "outputs": [
    {
     "data": {
      "text/plain": [
       "customer_id\n",
       "000011265b8a3727c4cc77b494134aca    42.01\n",
       "000079318ce4bdc1897a9c711e107b55    54.60\n",
       "0000e349e3d5eb96a2dc1939beebf9e4    20.82\n",
       "Name: revenue, dtype: float64"
      ]
     },
     "execution_count": 133,
     "metadata": {},
     "output_type": "execute_result"
    }
   ],
   "source": [
    "total_revenue_each_costumer.head(3)"
   ]
  },
  {
   "cell_type": "code",
   "execution_count": 134,
   "metadata": {},
   "outputs": [],
   "source": [
    "dataset = dataset.join(total_revenue_each_costumer,['customer_id'],rsuffix='_total')"
   ]
  },
  {
   "cell_type": "markdown",
   "metadata": {},
   "source": [
    "Total​ ​number​ ​of​ ​orders"
   ]
  },
  {
   "cell_type": "code",
   "execution_count": 135,
   "metadata": {},
   "outputs": [],
   "source": [
    "frequency_order_each_costumer = dataset.groupby(['customer_id'])['order_id'].count()"
   ]
  },
  {
   "cell_type": "code",
   "execution_count": 136,
   "metadata": {},
   "outputs": [
    {
     "data": {
      "text/plain": [
       "customer_id\n",
       "000011265b8a3727c4cc77b494134aca    1\n",
       "000079318ce4bdc1897a9c711e107b55    3\n",
       "0000e349e3d5eb96a2dc1939beebf9e4    1\n",
       "Name: order_id, dtype: int64"
      ]
     },
     "execution_count": 136,
     "metadata": {},
     "output_type": "execute_result"
    }
   ],
   "source": [
    "frequency_order_each_costumer.head(3)"
   ]
  },
  {
   "cell_type": "code",
   "execution_count": 137,
   "metadata": {},
   "outputs": [
    {
     "data": {
      "text/html": [
       "<div>\n",
       "<style scoped>\n",
       "    .dataframe tbody tr th:only-of-type {\n",
       "        vertical-align: middle;\n",
       "    }\n",
       "\n",
       "    .dataframe tbody tr th {\n",
       "        vertical-align: top;\n",
       "    }\n",
       "\n",
       "    .dataframe thead th {\n",
       "        text-align: right;\n",
       "    }\n",
       "</style>\n",
       "<table border=\"1\" class=\"dataframe\">\n",
       "  <thead>\n",
       "    <tr style=\"text-align: right;\">\n",
       "      <th></th>\n",
       "      <th>customer_id</th>\n",
       "      <th>order_id</th>\n",
       "      <th>order_item_id</th>\n",
       "      <th>num_items</th>\n",
       "      <th>revenue</th>\n",
       "      <th>created_at_date</th>\n",
       "      <th>num_items_sum</th>\n",
       "      <th>revenue_max</th>\n",
       "      <th>revenue_total</th>\n",
       "      <th>order_id_total</th>\n",
       "    </tr>\n",
       "  </thead>\n",
       "  <tbody>\n",
       "    <tr>\n",
       "      <th>0</th>\n",
       "      <td>37d67f5feef4cb754056a54841e43ad9</td>\n",
       "      <td>4662083</td>\n",
       "      <td>21257304.0</td>\n",
       "      <td>1.0</td>\n",
       "      <td>24.79</td>\n",
       "      <td>2017-09-01</td>\n",
       "      <td>1.0</td>\n",
       "      <td>24.79</td>\n",
       "      <td>24.79</td>\n",
       "      <td>1</td>\n",
       "    </tr>\n",
       "    <tr>\n",
       "      <th>1</th>\n",
       "      <td>d0d7a76fea3729a9381d39aca78b52d3</td>\n",
       "      <td>4655291</td>\n",
       "      <td>21224156.0</td>\n",
       "      <td>1.0</td>\n",
       "      <td>22.68</td>\n",
       "      <td>2017-09-01</td>\n",
       "      <td>1.0</td>\n",
       "      <td>22.68</td>\n",
       "      <td>22.68</td>\n",
       "      <td>1</td>\n",
       "    </tr>\n",
       "    <tr>\n",
       "      <th>2</th>\n",
       "      <td>450e1c2cbd21687780153995f1be0c23</td>\n",
       "      <td>4661361</td>\n",
       "      <td>21253627.0</td>\n",
       "      <td>1.0</td>\n",
       "      <td>10.07</td>\n",
       "      <td>2017-09-01</td>\n",
       "      <td>2.0</td>\n",
       "      <td>21.00</td>\n",
       "      <td>55.41</td>\n",
       "      <td>5</td>\n",
       "    </tr>\n",
       "  </tbody>\n",
       "</table>\n",
       "</div>"
      ],
      "text/plain": [
       "                        customer_id  order_id  order_item_id  num_items  \\\n",
       "0  37d67f5feef4cb754056a54841e43ad9   4662083     21257304.0        1.0   \n",
       "1  d0d7a76fea3729a9381d39aca78b52d3   4655291     21224156.0        1.0   \n",
       "2  450e1c2cbd21687780153995f1be0c23   4661361     21253627.0        1.0   \n",
       "\n",
       "   revenue created_at_date  num_items_sum  revenue_max  revenue_total  \\\n",
       "0    24.79      2017-09-01            1.0        24.79          24.79   \n",
       "1    22.68      2017-09-01            1.0        22.68          22.68   \n",
       "2    10.07      2017-09-01            2.0        21.00          55.41   \n",
       "\n",
       "   order_id_total  \n",
       "0               1  \n",
       "1               1  \n",
       "2               5  "
      ]
     },
     "execution_count": 137,
     "metadata": {},
     "output_type": "execute_result"
    }
   ],
   "source": [
    "dataset = dataset.join(frequency_order_each_costumer, ['customer_id'],rsuffix=\"_total\")\n",
    "dataset.head(3)"
   ]
  },
  {
   "cell_type": "markdown",
   "metadata": {},
   "source": [
    "## how to select data based on value from other column"
   ]
  },
  {
   "cell_type": "code",
   "execution_count": 138,
   "metadata": {},
   "outputs": [
    {
     "data": {
      "text/html": [
       "<div>\n",
       "<style scoped>\n",
       "    .dataframe tbody tr th:only-of-type {\n",
       "        vertical-align: middle;\n",
       "    }\n",
       "\n",
       "    .dataframe tbody tr th {\n",
       "        vertical-align: top;\n",
       "    }\n",
       "\n",
       "    .dataframe thead th {\n",
       "        text-align: right;\n",
       "    }\n",
       "</style>\n",
       "<table border=\"1\" class=\"dataframe\">\n",
       "  <thead>\n",
       "    <tr style=\"text-align: right;\">\n",
       "      <th></th>\n",
       "      <th>customer_id</th>\n",
       "      <th>order_id</th>\n",
       "      <th>order_item_id</th>\n",
       "      <th>num_items</th>\n",
       "      <th>revenue</th>\n",
       "      <th>created_at_date</th>\n",
       "      <th>num_items_sum</th>\n",
       "      <th>revenue_max</th>\n",
       "      <th>revenue_total</th>\n",
       "      <th>order_id_total</th>\n",
       "    </tr>\n",
       "  </thead>\n",
       "  <tbody>\n",
       "    <tr>\n",
       "      <th>2</th>\n",
       "      <td>450e1c2cbd21687780153995f1be0c23</td>\n",
       "      <td>4661361</td>\n",
       "      <td>21253627.0</td>\n",
       "      <td>1.0</td>\n",
       "      <td>10.07</td>\n",
       "      <td>2017-09-01</td>\n",
       "      <td>2.0</td>\n",
       "      <td>21.0</td>\n",
       "      <td>55.41</td>\n",
       "      <td>5</td>\n",
       "    </tr>\n",
       "    <tr>\n",
       "      <th>2333</th>\n",
       "      <td>450e1c2cbd21687780153995f1be0c23</td>\n",
       "      <td>4661361</td>\n",
       "      <td>21253622.0</td>\n",
       "      <td>1.0</td>\n",
       "      <td>16.80</td>\n",
       "      <td>2017-09-01</td>\n",
       "      <td>2.0</td>\n",
       "      <td>21.0</td>\n",
       "      <td>55.41</td>\n",
       "      <td>5</td>\n",
       "    </tr>\n",
       "    <tr>\n",
       "      <th>3682</th>\n",
       "      <td>450e1c2cbd21687780153995f1be0c23</td>\n",
       "      <td>4661361</td>\n",
       "      <td>21253620.0</td>\n",
       "      <td>1.0</td>\n",
       "      <td>21.00</td>\n",
       "      <td>2017-09-01</td>\n",
       "      <td>2.0</td>\n",
       "      <td>21.0</td>\n",
       "      <td>55.41</td>\n",
       "      <td>5</td>\n",
       "    </tr>\n",
       "    <tr>\n",
       "      <th>9021</th>\n",
       "      <td>450e1c2cbd21687780153995f1be0c23</td>\n",
       "      <td>4661361</td>\n",
       "      <td>21253623.0</td>\n",
       "      <td>2.0</td>\n",
       "      <td>3.34</td>\n",
       "      <td>2017-09-01</td>\n",
       "      <td>2.0</td>\n",
       "      <td>21.0</td>\n",
       "      <td>55.41</td>\n",
       "      <td>5</td>\n",
       "    </tr>\n",
       "    <tr>\n",
       "      <th>11238</th>\n",
       "      <td>450e1c2cbd21687780153995f1be0c23</td>\n",
       "      <td>4661361</td>\n",
       "      <td>21253625.0</td>\n",
       "      <td>1.0</td>\n",
       "      <td>4.20</td>\n",
       "      <td>2017-09-01</td>\n",
       "      <td>2.0</td>\n",
       "      <td>21.0</td>\n",
       "      <td>55.41</td>\n",
       "      <td>5</td>\n",
       "    </tr>\n",
       "  </tbody>\n",
       "</table>\n",
       "</div>"
      ],
      "text/plain": [
       "                            customer_id  order_id  order_item_id  num_items  \\\n",
       "2      450e1c2cbd21687780153995f1be0c23   4661361     21253627.0        1.0   \n",
       "2333   450e1c2cbd21687780153995f1be0c23   4661361     21253622.0        1.0   \n",
       "3682   450e1c2cbd21687780153995f1be0c23   4661361     21253620.0        1.0   \n",
       "9021   450e1c2cbd21687780153995f1be0c23   4661361     21253623.0        2.0   \n",
       "11238  450e1c2cbd21687780153995f1be0c23   4661361     21253625.0        1.0   \n",
       "\n",
       "       revenue created_at_date  num_items_sum  revenue_max  revenue_total  \\\n",
       "2        10.07      2017-09-01            2.0         21.0          55.41   \n",
       "2333     16.80      2017-09-01            2.0         21.0          55.41   \n",
       "3682     21.00      2017-09-01            2.0         21.0          55.41   \n",
       "9021      3.34      2017-09-01            2.0         21.0          55.41   \n",
       "11238     4.20      2017-09-01            2.0         21.0          55.41   \n",
       "\n",
       "       order_id_total  \n",
       "2                   5  \n",
       "2333                5  \n",
       "3682                5  \n",
       "9021                5  \n",
       "11238               5  "
      ]
     },
     "execution_count": 138,
     "metadata": {},
     "output_type": "execute_result"
    }
   ],
   "source": [
    "dataset.set_index(['customer_id'])\n",
    "dataset.loc[dataset['customer_id'] == \"450e1c2cbd21687780153995f1be0c23\"]"
   ]
  },
  {
   "cell_type": "code",
   "execution_count": 139,
   "metadata": {
    "scrolled": true
   },
   "outputs": [],
   "source": [
    "#longest_date_each_costumer.head(10)"
   ]
  },
  {
   "cell_type": "code",
   "execution_count": 140,
   "metadata": {},
   "outputs": [],
   "source": [
    "#ongest_date_each_costumer.columns = longest_date_each_costumer.columns.droplevel()"
   ]
  },
  {
   "cell_type": "code",
   "execution_count": 141,
   "metadata": {},
   "outputs": [],
   "source": [
    "#longest_date_each_costumer"
   ]
  },
  {
   "cell_type": "code",
   "execution_count": 142,
   "metadata": {},
   "outputs": [],
   "source": [
    "from datetime import datetime\n",
    "def func(x):     \n",
    "    gap_date = abs(datetime.strptime(\"2017-10-17\", '%Y-%m-%d') - datetime.strptime(x, '%Y-%m-%d'))\n",
    "    x=gap_date.days\n",
    "    return x"
   ]
  },
  {
   "cell_type": "markdown",
   "metadata": {},
   "source": [
    "Days​ since​ ​last​ ​order:​ ​number​ ​of​ ​days​ ​from​ ​the​ ​last​ ​order​ ​until​ ​2017-10-17 "
   ]
  },
  {
   "cell_type": "code",
   "execution_count": 143,
   "metadata": {},
   "outputs": [],
   "source": [
    "longest_date_each_costumer = dataset.groupby(['customer_id'])['created_at_date'].max()"
   ]
  },
  {
   "cell_type": "code",
   "execution_count": 144,
   "metadata": {},
   "outputs": [
    {
     "data": {
      "text/plain": [
       "customer_id\n",
       "000011265b8a3727c4cc77b494134aca    18\n",
       "000079318ce4bdc1897a9c711e107b55     2\n",
       "0000e349e3d5eb96a2dc1939beebf9e4     4\n",
       "0001159afe8b9309aeb95fa17886d688    26\n",
       "000146a1e6decca6773a52afd2ed0255    20\n",
       "0001aa41356a707949e8a715947ff85c    39\n",
       "0001b3166c1bcb11f331e6676f7863a9    11\n",
       "0001cf68347245f00fe71fd9d677e9df     6\n",
       "00022da3f8257cbda32247d4e02c4b6d    18\n",
       "0002ec88abff6d01da3b9db674cd8868     3\n",
       "Name: created_at_date, dtype: int64"
      ]
     },
     "execution_count": 144,
     "metadata": {},
     "output_type": "execute_result"
    }
   ],
   "source": [
    "longest_date_each_costumer = longest_date_each_costumer.apply(func)\n",
    "longest_date_each_costumer.head(10)"
   ]
  },
  {
   "cell_type": "markdown",
   "metadata": {},
   "source": [
    "##POC that this is right\n",
    "----------------------------------\n",
    "==================================="
   ]
  },
  {
   "cell_type": "code",
   "execution_count": 145,
   "metadata": {},
   "outputs": [
    {
     "data": {
      "text/html": [
       "<div>\n",
       "<style scoped>\n",
       "    .dataframe tbody tr th:only-of-type {\n",
       "        vertical-align: middle;\n",
       "    }\n",
       "\n",
       "    .dataframe tbody tr th {\n",
       "        vertical-align: top;\n",
       "    }\n",
       "\n",
       "    .dataframe thead th {\n",
       "        text-align: right;\n",
       "    }\n",
       "</style>\n",
       "<table border=\"1\" class=\"dataframe\">\n",
       "  <thead>\n",
       "    <tr style=\"text-align: right;\">\n",
       "      <th></th>\n",
       "      <th>customer_id</th>\n",
       "      <th>order_id</th>\n",
       "      <th>order_item_id</th>\n",
       "      <th>num_items</th>\n",
       "      <th>revenue</th>\n",
       "      <th>created_at_date</th>\n",
       "      <th>num_items_sum</th>\n",
       "      <th>revenue_max</th>\n",
       "      <th>revenue_total</th>\n",
       "      <th>order_id_total</th>\n",
       "      <th>created_at_date_day</th>\n",
       "    </tr>\n",
       "  </thead>\n",
       "  <tbody>\n",
       "    <tr>\n",
       "      <th>0</th>\n",
       "      <td>37d67f5feef4cb754056a54841e43ad9</td>\n",
       "      <td>4662083</td>\n",
       "      <td>21257304.0</td>\n",
       "      <td>1.0</td>\n",
       "      <td>24.79</td>\n",
       "      <td>2017-09-01</td>\n",
       "      <td>1.0</td>\n",
       "      <td>24.79</td>\n",
       "      <td>24.79</td>\n",
       "      <td>1</td>\n",
       "      <td>46</td>\n",
       "    </tr>\n",
       "    <tr>\n",
       "      <th>1</th>\n",
       "      <td>d0d7a76fea3729a9381d39aca78b52d3</td>\n",
       "      <td>4655291</td>\n",
       "      <td>21224156.0</td>\n",
       "      <td>1.0</td>\n",
       "      <td>22.68</td>\n",
       "      <td>2017-09-01</td>\n",
       "      <td>1.0</td>\n",
       "      <td>22.68</td>\n",
       "      <td>22.68</td>\n",
       "      <td>1</td>\n",
       "      <td>46</td>\n",
       "    </tr>\n",
       "    <tr>\n",
       "      <th>2</th>\n",
       "      <td>450e1c2cbd21687780153995f1be0c23</td>\n",
       "      <td>4661361</td>\n",
       "      <td>21253627.0</td>\n",
       "      <td>1.0</td>\n",
       "      <td>10.07</td>\n",
       "      <td>2017-09-01</td>\n",
       "      <td>2.0</td>\n",
       "      <td>21.00</td>\n",
       "      <td>55.41</td>\n",
       "      <td>5</td>\n",
       "      <td>46</td>\n",
       "    </tr>\n",
       "  </tbody>\n",
       "</table>\n",
       "</div>"
      ],
      "text/plain": [
       "                        customer_id  order_id  order_item_id  num_items  \\\n",
       "0  37d67f5feef4cb754056a54841e43ad9   4662083     21257304.0        1.0   \n",
       "1  d0d7a76fea3729a9381d39aca78b52d3   4655291     21224156.0        1.0   \n",
       "2  450e1c2cbd21687780153995f1be0c23   4661361     21253627.0        1.0   \n",
       "\n",
       "   revenue created_at_date  num_items_sum  revenue_max  revenue_total  \\\n",
       "0    24.79      2017-09-01            1.0        24.79          24.79   \n",
       "1    22.68      2017-09-01            1.0        22.68          22.68   \n",
       "2    10.07      2017-09-01            2.0        21.00          55.41   \n",
       "\n",
       "   order_id_total  created_at_date_day  \n",
       "0               1                   46  \n",
       "1               1                   46  \n",
       "2               5                   46  "
      ]
     },
     "execution_count": 145,
     "metadata": {},
     "output_type": "execute_result"
    }
   ],
   "source": [
    "dataset_ja = dataset.join(longest_date_each_costumer, ['customer_id'],rsuffix=\"_day\")\n",
    "dataset_ja.head(3)"
   ]
  },
  {
   "cell_type": "code",
   "execution_count": 146,
   "metadata": {},
   "outputs": [
    {
     "data": {
      "text/html": [
       "<div>\n",
       "<style scoped>\n",
       "    .dataframe tbody tr th:only-of-type {\n",
       "        vertical-align: middle;\n",
       "    }\n",
       "\n",
       "    .dataframe tbody tr th {\n",
       "        vertical-align: top;\n",
       "    }\n",
       "\n",
       "    .dataframe thead th {\n",
       "        text-align: right;\n",
       "    }\n",
       "</style>\n",
       "<table border=\"1\" class=\"dataframe\">\n",
       "  <thead>\n",
       "    <tr style=\"text-align: right;\">\n",
       "      <th></th>\n",
       "      <th>customer_id</th>\n",
       "      <th>order_id</th>\n",
       "      <th>order_item_id</th>\n",
       "      <th>num_items</th>\n",
       "      <th>revenue</th>\n",
       "      <th>created_at_date</th>\n",
       "      <th>num_items_sum</th>\n",
       "      <th>revenue_max</th>\n",
       "      <th>revenue_total</th>\n",
       "      <th>order_id_total</th>\n",
       "      <th>created_at_date_day</th>\n",
       "    </tr>\n",
       "  </thead>\n",
       "  <tbody>\n",
       "    <tr>\n",
       "      <th>393773</th>\n",
       "      <td>000011265b8a3727c4cc77b494134aca</td>\n",
       "      <td>4863832</td>\n",
       "      <td>22235445.0</td>\n",
       "      <td>1.0</td>\n",
       "      <td>42.01</td>\n",
       "      <td>2017-09-29</td>\n",
       "      <td>1.0</td>\n",
       "      <td>42.01</td>\n",
       "      <td>42.01</td>\n",
       "      <td>1</td>\n",
       "      <td>18</td>\n",
       "    </tr>\n",
       "  </tbody>\n",
       "</table>\n",
       "</div>"
      ],
      "text/plain": [
       "                             customer_id  order_id  order_item_id  num_items  \\\n",
       "393773  000011265b8a3727c4cc77b494134aca   4863832     22235445.0        1.0   \n",
       "\n",
       "        revenue created_at_date  num_items_sum  revenue_max  revenue_total  \\\n",
       "393773    42.01      2017-09-29            1.0        42.01          42.01   \n",
       "\n",
       "        order_id_total  created_at_date_day  \n",
       "393773               1                   18  "
      ]
     },
     "execution_count": 146,
     "metadata": {},
     "output_type": "execute_result"
    }
   ],
   "source": [
    "dataset_ja.set_index(['customer_id'])\n",
    "dataset_ja.loc[dataset_ja['customer_id'] == \"000011265b8a3727c4cc77b494134aca\"]"
   ]
  },
  {
   "cell_type": "markdown",
   "metadata": {},
   "source": [
    "==================================="
   ]
  },
  {
   "cell_type": "code",
   "execution_count": 147,
   "metadata": {},
   "outputs": [
    {
     "data": {
      "text/html": [
       "<div>\n",
       "<style scoped>\n",
       "    .dataframe tbody tr th:only-of-type {\n",
       "        vertical-align: middle;\n",
       "    }\n",
       "\n",
       "    .dataframe tbody tr th {\n",
       "        vertical-align: top;\n",
       "    }\n",
       "\n",
       "    .dataframe thead th {\n",
       "        text-align: right;\n",
       "    }\n",
       "</style>\n",
       "<table border=\"1\" class=\"dataframe\">\n",
       "  <thead>\n",
       "    <tr style=\"text-align: right;\">\n",
       "      <th></th>\n",
       "      <th>customer_id</th>\n",
       "      <th>order_id</th>\n",
       "      <th>order_item_id</th>\n",
       "      <th>num_items</th>\n",
       "      <th>revenue</th>\n",
       "      <th>created_at_date</th>\n",
       "      <th>num_items_sum</th>\n",
       "      <th>revenue_max</th>\n",
       "      <th>revenue_total</th>\n",
       "      <th>order_id_total</th>\n",
       "      <th>day_since_last_order</th>\n",
       "    </tr>\n",
       "  </thead>\n",
       "  <tbody>\n",
       "    <tr>\n",
       "      <th>0</th>\n",
       "      <td>37d67f5feef4cb754056a54841e43ad9</td>\n",
       "      <td>4662083</td>\n",
       "      <td>21257304.0</td>\n",
       "      <td>1.0</td>\n",
       "      <td>24.79</td>\n",
       "      <td>2017-09-01</td>\n",
       "      <td>1.0</td>\n",
       "      <td>24.79</td>\n",
       "      <td>24.79</td>\n",
       "      <td>1</td>\n",
       "      <td>46</td>\n",
       "    </tr>\n",
       "    <tr>\n",
       "      <th>1</th>\n",
       "      <td>d0d7a76fea3729a9381d39aca78b52d3</td>\n",
       "      <td>4655291</td>\n",
       "      <td>21224156.0</td>\n",
       "      <td>1.0</td>\n",
       "      <td>22.68</td>\n",
       "      <td>2017-09-01</td>\n",
       "      <td>1.0</td>\n",
       "      <td>22.68</td>\n",
       "      <td>22.68</td>\n",
       "      <td>1</td>\n",
       "      <td>46</td>\n",
       "    </tr>\n",
       "    <tr>\n",
       "      <th>2</th>\n",
       "      <td>450e1c2cbd21687780153995f1be0c23</td>\n",
       "      <td>4661361</td>\n",
       "      <td>21253627.0</td>\n",
       "      <td>1.0</td>\n",
       "      <td>10.07</td>\n",
       "      <td>2017-09-01</td>\n",
       "      <td>2.0</td>\n",
       "      <td>21.00</td>\n",
       "      <td>55.41</td>\n",
       "      <td>5</td>\n",
       "      <td>46</td>\n",
       "    </tr>\n",
       "  </tbody>\n",
       "</table>\n",
       "</div>"
      ],
      "text/plain": [
       "                        customer_id  order_id  order_item_id  num_items  \\\n",
       "0  37d67f5feef4cb754056a54841e43ad9   4662083     21257304.0        1.0   \n",
       "1  d0d7a76fea3729a9381d39aca78b52d3   4655291     21224156.0        1.0   \n",
       "2  450e1c2cbd21687780153995f1be0c23   4661361     21253627.0        1.0   \n",
       "\n",
       "   revenue created_at_date  num_items_sum  revenue_max  revenue_total  \\\n",
       "0    24.79      2017-09-01            1.0        24.79          24.79   \n",
       "1    22.68      2017-09-01            1.0        22.68          22.68   \n",
       "2    10.07      2017-09-01            2.0        21.00          55.41   \n",
       "\n",
       "   order_id_total  day_since_last_order  \n",
       "0               1                    46  \n",
       "1               1                    46  \n",
       "2               5                    46  "
      ]
     },
     "execution_count": 147,
     "metadata": {},
     "output_type": "execute_result"
    }
   ],
   "source": [
    "dataset  = dataset.join(longest_date_each_costumer, ['customer_id'],rsuffix=\"_day\")\n",
    "dataset.rename(columns={'created_at_date_day':'day_since_last_order'}, inplace=True)\n",
    "dataset.head(3)"
   ]
  },
  {
   "cell_type": "markdown",
   "metadata": {},
   "source": [
    "The​ ​longest​ ​interval​ ​between​ ​two​ ​consecutive​ ​orders​ ​(in​ ​unit​ ​of​ ​days).​ ​If​ ​a \n",
    "customer​ ​has​ ​only​ ​one​ ​order,​ ​use​ ​the​ ​formula​ ​below "
   ]
  },
  {
   "cell_type": "code",
   "execution_count": 148,
   "metadata": {},
   "outputs": [],
   "source": [
    "longest_date_interval = dataset.groupby(['customer_id']).agg({'created_at_date':['min','max']})"
   ]
  },
  {
   "cell_type": "code",
   "execution_count": 149,
   "metadata": {},
   "outputs": [],
   "source": [
    "longest_date_interval['min'] = pd.to_datetime(longest_date_interval['created_at_date']['min'])"
   ]
  },
  {
   "cell_type": "code",
   "execution_count": 150,
   "metadata": {},
   "outputs": [],
   "source": [
    "longest_date_interval['max'] = pd.to_datetime(longest_date_interval['created_at_date']['max'])"
   ]
  },
  {
   "cell_type": "code",
   "execution_count": 151,
   "metadata": {},
   "outputs": [
    {
     "data": {
      "text/html": [
       "<div>\n",
       "<style scoped>\n",
       "    .dataframe tbody tr th:only-of-type {\n",
       "        vertical-align: middle;\n",
       "    }\n",
       "\n",
       "    .dataframe tbody tr th {\n",
       "        vertical-align: top;\n",
       "    }\n",
       "\n",
       "    .dataframe thead tr th {\n",
       "        text-align: left;\n",
       "    }\n",
       "\n",
       "    .dataframe thead tr:last-of-type th {\n",
       "        text-align: right;\n",
       "    }\n",
       "</style>\n",
       "<table border=\"1\" class=\"dataframe\">\n",
       "  <thead>\n",
       "    <tr>\n",
       "      <th></th>\n",
       "      <th colspan=\"2\" halign=\"left\">created_at_date</th>\n",
       "      <th>min</th>\n",
       "      <th>max</th>\n",
       "    </tr>\n",
       "    <tr>\n",
       "      <th></th>\n",
       "      <th>min</th>\n",
       "      <th>max</th>\n",
       "      <th></th>\n",
       "      <th></th>\n",
       "    </tr>\n",
       "    <tr>\n",
       "      <th>customer_id</th>\n",
       "      <th></th>\n",
       "      <th></th>\n",
       "      <th></th>\n",
       "      <th></th>\n",
       "    </tr>\n",
       "  </thead>\n",
       "  <tbody>\n",
       "    <tr>\n",
       "      <th>000011265b8a3727c4cc77b494134aca</th>\n",
       "      <td>2017-09-29</td>\n",
       "      <td>2017-09-29</td>\n",
       "      <td>2017-09-29</td>\n",
       "      <td>2017-09-29</td>\n",
       "    </tr>\n",
       "    <tr>\n",
       "      <th>000079318ce4bdc1897a9c711e107b55</th>\n",
       "      <td>2017-10-15</td>\n",
       "      <td>2017-10-15</td>\n",
       "      <td>2017-10-15</td>\n",
       "      <td>2017-10-15</td>\n",
       "    </tr>\n",
       "  </tbody>\n",
       "</table>\n",
       "</div>"
      ],
      "text/plain": [
       "                                 created_at_date                    min  \\\n",
       "                                             min         max              \n",
       "customer_id                                                               \n",
       "000011265b8a3727c4cc77b494134aca      2017-09-29  2017-09-29 2017-09-29   \n",
       "000079318ce4bdc1897a9c711e107b55      2017-10-15  2017-10-15 2017-10-15   \n",
       "\n",
       "                                        max  \n",
       "                                             \n",
       "customer_id                                  \n",
       "000011265b8a3727c4cc77b494134aca 2017-09-29  \n",
       "000079318ce4bdc1897a9c711e107b55 2017-10-15  "
      ]
     },
     "execution_count": 151,
     "metadata": {},
     "output_type": "execute_result"
    }
   ],
   "source": [
    "longest_date_interval.head(2)"
   ]
  },
  {
   "cell_type": "code",
   "execution_count": 152,
   "metadata": {},
   "outputs": [],
   "source": [
    "longest_date_interval['gap_days'] = longest_date_interval['max'] - longest_date_interval['min']"
   ]
  },
  {
   "cell_type": "code",
   "execution_count": 153,
   "metadata": {},
   "outputs": [],
   "source": [
    "def date_interval(x):\n",
    "    return x.days \n",
    "longest_date_interval['gap_days'] = longest_date_interval['gap_days'].apply(date_interval)        "
   ]
  },
  {
   "cell_type": "code",
   "execution_count": 154,
   "metadata": {},
   "outputs": [
    {
     "data": {
      "text/html": [
       "<div>\n",
       "<style scoped>\n",
       "    .dataframe tbody tr th:only-of-type {\n",
       "        vertical-align: middle;\n",
       "    }\n",
       "\n",
       "    .dataframe tbody tr th {\n",
       "        vertical-align: top;\n",
       "    }\n",
       "\n",
       "    .dataframe thead tr th {\n",
       "        text-align: left;\n",
       "    }\n",
       "\n",
       "    .dataframe thead tr:last-of-type th {\n",
       "        text-align: right;\n",
       "    }\n",
       "</style>\n",
       "<table border=\"1\" class=\"dataframe\">\n",
       "  <thead>\n",
       "    <tr>\n",
       "      <th></th>\n",
       "      <th>gap_days</th>\n",
       "    </tr>\n",
       "    <tr>\n",
       "      <th></th>\n",
       "      <th></th>\n",
       "    </tr>\n",
       "    <tr>\n",
       "      <th>customer_id</th>\n",
       "      <th></th>\n",
       "    </tr>\n",
       "  </thead>\n",
       "  <tbody>\n",
       "    <tr>\n",
       "      <th>000011265b8a3727c4cc77b494134aca</th>\n",
       "      <td>0</td>\n",
       "    </tr>\n",
       "    <tr>\n",
       "      <th>000079318ce4bdc1897a9c711e107b55</th>\n",
       "      <td>0</td>\n",
       "    </tr>\n",
       "    <tr>\n",
       "      <th>0000e349e3d5eb96a2dc1939beebf9e4</th>\n",
       "      <td>0</td>\n",
       "    </tr>\n",
       "  </tbody>\n",
       "</table>\n",
       "</div>"
      ],
      "text/plain": [
       "                                 gap_days\n",
       "                                         \n",
       "customer_id                              \n",
       "000011265b8a3727c4cc77b494134aca        0\n",
       "000079318ce4bdc1897a9c711e107b55        0\n",
       "0000e349e3d5eb96a2dc1939beebf9e4        0"
      ]
     },
     "execution_count": 154,
     "metadata": {},
     "output_type": "execute_result"
    }
   ],
   "source": [
    "longest_date_interval.drop(['created_at_date','min','max'],axis=1,inplace=True)\n",
    "longest_date_interval.head(3)"
   ]
  },
  {
   "cell_type": "code",
   "execution_count": 155,
   "metadata": {
    "scrolled": false
   },
   "outputs": [
    {
     "data": {
      "text/plain": [
       "MultiIndex(levels=[['created_at_date', 'min', 'max', 'gap_days'], ['min', 'max', '']],\n",
       "           labels=[[3], [2]])"
      ]
     },
     "execution_count": 155,
     "metadata": {},
     "output_type": "execute_result"
    }
   ],
   "source": [
    "longest_date_interval.columns"
   ]
  },
  {
   "cell_type": "code",
   "execution_count": 156,
   "metadata": {},
   "outputs": [
    {
     "name": "stdout",
     "output_type": "stream",
     "text": [
      "                        customer_id  gap_days\n",
      "0  000011265b8a3727c4cc77b494134aca         0\n",
      "1  000079318ce4bdc1897a9c711e107b55         0\n",
      "2  0000e349e3d5eb96a2dc1939beebf9e4         0\n"
     ]
    }
   ],
   "source": [
    "longest_date_interval = longest_date_interval.reset_index()\n",
    "longest_date_interval.columns = longest_date_interval.columns.remove_unused_levels().droplevel(level=1)\n",
    "# longest_date_interval.columns = longest_date_interval.columns.droplevel(level=1)\n",
    "\n",
    "print(longest_date_interval.head(3))\n",
    "# longest_date_interval = longest_date_interval\n",
    "# .remove_unused_levels().droplevel(level=1)"
   ]
  },
  {
   "cell_type": "code",
   "execution_count": 157,
   "metadata": {},
   "outputs": [
    {
     "name": "stdout",
     "output_type": "stream",
     "text": [
      "Index(['customer_id', 'gap_days'], dtype='object')\n"
     ]
    }
   ],
   "source": [
    "print(longest_date_interval.columns)\n",
    "longest_date_interval = longest_date_interval.set_index('customer_id')"
   ]
  },
  {
   "cell_type": "code",
   "execution_count": 158,
   "metadata": {},
   "outputs": [
    {
     "data": {
      "text/html": [
       "<div>\n",
       "<style scoped>\n",
       "    .dataframe tbody tr th:only-of-type {\n",
       "        vertical-align: middle;\n",
       "    }\n",
       "\n",
       "    .dataframe tbody tr th {\n",
       "        vertical-align: top;\n",
       "    }\n",
       "\n",
       "    .dataframe thead th {\n",
       "        text-align: right;\n",
       "    }\n",
       "</style>\n",
       "<table border=\"1\" class=\"dataframe\">\n",
       "  <thead>\n",
       "    <tr style=\"text-align: right;\">\n",
       "      <th></th>\n",
       "      <th>customer_id</th>\n",
       "      <th>order_id</th>\n",
       "      <th>order_item_id</th>\n",
       "      <th>num_items</th>\n",
       "      <th>revenue</th>\n",
       "      <th>created_at_date</th>\n",
       "      <th>num_items_sum</th>\n",
       "      <th>revenue_max</th>\n",
       "      <th>revenue_total</th>\n",
       "      <th>order_id_total</th>\n",
       "      <th>day_since_last_order</th>\n",
       "      <th>gap_days</th>\n",
       "    </tr>\n",
       "  </thead>\n",
       "  <tbody>\n",
       "    <tr>\n",
       "      <th>0</th>\n",
       "      <td>37d67f5feef4cb754056a54841e43ad9</td>\n",
       "      <td>4662083</td>\n",
       "      <td>21257304.0</td>\n",
       "      <td>1.0</td>\n",
       "      <td>24.79</td>\n",
       "      <td>2017-09-01</td>\n",
       "      <td>1.0</td>\n",
       "      <td>24.79</td>\n",
       "      <td>24.79</td>\n",
       "      <td>1</td>\n",
       "      <td>46</td>\n",
       "      <td>0</td>\n",
       "    </tr>\n",
       "    <tr>\n",
       "      <th>1</th>\n",
       "      <td>d0d7a76fea3729a9381d39aca78b52d3</td>\n",
       "      <td>4655291</td>\n",
       "      <td>21224156.0</td>\n",
       "      <td>1.0</td>\n",
       "      <td>22.68</td>\n",
       "      <td>2017-09-01</td>\n",
       "      <td>1.0</td>\n",
       "      <td>22.68</td>\n",
       "      <td>22.68</td>\n",
       "      <td>1</td>\n",
       "      <td>46</td>\n",
       "      <td>0</td>\n",
       "    </tr>\n",
       "    <tr>\n",
       "      <th>2</th>\n",
       "      <td>450e1c2cbd21687780153995f1be0c23</td>\n",
       "      <td>4661361</td>\n",
       "      <td>21253627.0</td>\n",
       "      <td>1.0</td>\n",
       "      <td>10.07</td>\n",
       "      <td>2017-09-01</td>\n",
       "      <td>2.0</td>\n",
       "      <td>21.00</td>\n",
       "      <td>55.41</td>\n",
       "      <td>5</td>\n",
       "      <td>46</td>\n",
       "      <td>0</td>\n",
       "    </tr>\n",
       "  </tbody>\n",
       "</table>\n",
       "</div>"
      ],
      "text/plain": [
       "                        customer_id  order_id  order_item_id  num_items  \\\n",
       "0  37d67f5feef4cb754056a54841e43ad9   4662083     21257304.0        1.0   \n",
       "1  d0d7a76fea3729a9381d39aca78b52d3   4655291     21224156.0        1.0   \n",
       "2  450e1c2cbd21687780153995f1be0c23   4661361     21253627.0        1.0   \n",
       "\n",
       "   revenue created_at_date  num_items_sum  revenue_max  revenue_total  \\\n",
       "0    24.79      2017-09-01            1.0        24.79          24.79   \n",
       "1    22.68      2017-09-01            1.0        22.68          22.68   \n",
       "2    10.07      2017-09-01            2.0        21.00          55.41   \n",
       "\n",
       "   order_id_total  day_since_last_order  gap_days  \n",
       "0               1                    46         0  \n",
       "1               1                    46         0  \n",
       "2               5                    46         0  "
      ]
     },
     "execution_count": 158,
     "metadata": {},
     "output_type": "execute_result"
    }
   ],
   "source": [
    "dataset = dataset.join(longest_date_interval,['customer_id'])\n",
    "dataset.head(3)"
   ]
  },
  {
   "cell_type": "code",
   "execution_count": 159,
   "metadata": {},
   "outputs": [],
   "source": [
    "avg_long_day = dataset['gap_days'].mean()\n"
   ]
  },
  {
   "cell_type": "code",
   "execution_count": 160,
   "metadata": {},
   "outputs": [],
   "source": [
    "idx = dataset['gap_days'] == 0\n",
    "# dataset\n",
    "# dataset.apply(lambda x: replace_val(x['created_at_date'],avg_long_day))"
   ]
  },
  {
   "cell_type": "code",
   "execution_count": 161,
   "metadata": {},
   "outputs": [],
   "source": [
    "dataset.loc[idx,'gap_days'] = avg_long_day + dataset.loc[idx,'day_since_last_order'] "
   ]
  },
  {
   "cell_type": "code",
   "execution_count": 162,
   "metadata": {},
   "outputs": [
    {
     "data": {
      "text/html": [
       "<div>\n",
       "<style scoped>\n",
       "    .dataframe tbody tr th:only-of-type {\n",
       "        vertical-align: middle;\n",
       "    }\n",
       "\n",
       "    .dataframe tbody tr th {\n",
       "        vertical-align: top;\n",
       "    }\n",
       "\n",
       "    .dataframe thead th {\n",
       "        text-align: right;\n",
       "    }\n",
       "</style>\n",
       "<table border=\"1\" class=\"dataframe\">\n",
       "  <thead>\n",
       "    <tr style=\"text-align: right;\">\n",
       "      <th></th>\n",
       "      <th>customer_id</th>\n",
       "      <th>order_id</th>\n",
       "      <th>order_item_id</th>\n",
       "      <th>num_items</th>\n",
       "      <th>revenue</th>\n",
       "      <th>created_at_date</th>\n",
       "      <th>num_items_sum</th>\n",
       "      <th>revenue_max</th>\n",
       "      <th>revenue_total</th>\n",
       "      <th>order_id_total</th>\n",
       "      <th>day_since_last_order</th>\n",
       "      <th>gap_days</th>\n",
       "    </tr>\n",
       "  </thead>\n",
       "  <tbody>\n",
       "    <tr>\n",
       "      <th>0</th>\n",
       "      <td>37d67f5feef4cb754056a54841e43ad9</td>\n",
       "      <td>4662083</td>\n",
       "      <td>21257304.0</td>\n",
       "      <td>1.0</td>\n",
       "      <td>24.79</td>\n",
       "      <td>2017-09-01</td>\n",
       "      <td>1.0</td>\n",
       "      <td>24.79</td>\n",
       "      <td>24.79</td>\n",
       "      <td>1</td>\n",
       "      <td>46</td>\n",
       "      <td>50.522772</td>\n",
       "    </tr>\n",
       "    <tr>\n",
       "      <th>1</th>\n",
       "      <td>d0d7a76fea3729a9381d39aca78b52d3</td>\n",
       "      <td>4655291</td>\n",
       "      <td>21224156.0</td>\n",
       "      <td>1.0</td>\n",
       "      <td>22.68</td>\n",
       "      <td>2017-09-01</td>\n",
       "      <td>1.0</td>\n",
       "      <td>22.68</td>\n",
       "      <td>22.68</td>\n",
       "      <td>1</td>\n",
       "      <td>46</td>\n",
       "      <td>50.522772</td>\n",
       "    </tr>\n",
       "    <tr>\n",
       "      <th>2</th>\n",
       "      <td>450e1c2cbd21687780153995f1be0c23</td>\n",
       "      <td>4661361</td>\n",
       "      <td>21253627.0</td>\n",
       "      <td>1.0</td>\n",
       "      <td>10.07</td>\n",
       "      <td>2017-09-01</td>\n",
       "      <td>2.0</td>\n",
       "      <td>21.00</td>\n",
       "      <td>55.41</td>\n",
       "      <td>5</td>\n",
       "      <td>46</td>\n",
       "      <td>50.522772</td>\n",
       "    </tr>\n",
       "  </tbody>\n",
       "</table>\n",
       "</div>"
      ],
      "text/plain": [
       "                        customer_id  order_id  order_item_id  num_items  \\\n",
       "0  37d67f5feef4cb754056a54841e43ad9   4662083     21257304.0        1.0   \n",
       "1  d0d7a76fea3729a9381d39aca78b52d3   4655291     21224156.0        1.0   \n",
       "2  450e1c2cbd21687780153995f1be0c23   4661361     21253627.0        1.0   \n",
       "\n",
       "   revenue created_at_date  num_items_sum  revenue_max  revenue_total  \\\n",
       "0    24.79      2017-09-01            1.0        24.79          24.79   \n",
       "1    22.68      2017-09-01            1.0        22.68          22.68   \n",
       "2    10.07      2017-09-01            2.0        21.00          55.41   \n",
       "\n",
       "   order_id_total  day_since_last_order   gap_days  \n",
       "0               1                    46  50.522772  \n",
       "1               1                    46  50.522772  \n",
       "2               5                    46  50.522772  "
      ]
     },
     "execution_count": 162,
     "metadata": {},
     "output_type": "execute_result"
    }
   ],
   "source": [
    "dataset.head(3)"
   ]
  },
  {
   "cell_type": "markdown",
   "metadata": {},
   "source": [
    "change the data format to hdf5 because it's faster to read. \n"
   ]
  },
  {
   "cell_type": "code",
   "execution_count": 163,
   "metadata": {},
   "outputs": [],
   "source": [
    "# import pandas as pd\n",
    "# df= pd.DataFrame([True, True, False, False, False, False, True, False, False], \n",
    "#               index=pd.to_datetime(['2015-05-01', '2015-05-02', '2015-05-03',\n",
    "#                                    '2015-05-04', '2015-05-05', '2015-05-06',\n",
    "#                                    '2015-05-07', '2015-05-08', '2015-05-09']), \n",
    "#               columns=['A'])"
   ]
  },
  {
   "cell_type": "code",
   "execution_count": 164,
   "metadata": {},
   "outputs": [],
   "source": [
    "datetime_now = datetime.now().strftime(\"%B_%d_%Y\")\n",
    "output_path = \"/home/bukalapak/nietzsche/warehouse/datadump_{}.csv\".format(datetime_now)\n",
    "    "
   ]
  },
  {
   "cell_type": "code",
   "execution_count": 165,
   "metadata": {},
   "outputs": [],
   "source": [
    "dataset.to_csv(output_path, sep=\",\")"
   ]
  },
  {
   "cell_type": "code",
   "execution_count": 172,
   "metadata": {},
   "outputs": [
    {
     "data": {
      "text/html": [
       "<div>\n",
       "<style scoped>\n",
       "    .dataframe tbody tr th:only-of-type {\n",
       "        vertical-align: middle;\n",
       "    }\n",
       "\n",
       "    .dataframe tbody tr th {\n",
       "        vertical-align: top;\n",
       "    }\n",
       "\n",
       "    .dataframe thead th {\n",
       "        text-align: right;\n",
       "    }\n",
       "</style>\n",
       "<table border=\"1\" class=\"dataframe\">\n",
       "  <thead>\n",
       "    <tr style=\"text-align: right;\">\n",
       "      <th></th>\n",
       "      <th>customer_id</th>\n",
       "      <th>order_id</th>\n",
       "      <th>order_item_id</th>\n",
       "      <th>num_items</th>\n",
       "      <th>revenue</th>\n",
       "      <th>created_at_date</th>\n",
       "      <th>num_items_sum</th>\n",
       "      <th>revenue_max</th>\n",
       "      <th>revenue_total</th>\n",
       "      <th>order_id_total</th>\n",
       "      <th>day_since_last_order</th>\n",
       "      <th>gap_days</th>\n",
       "    </tr>\n",
       "  </thead>\n",
       "  <tbody>\n",
       "    <tr>\n",
       "      <th>0</th>\n",
       "      <td>37d67f5feef4cb754056a54841e43ad9</td>\n",
       "      <td>4662083</td>\n",
       "      <td>21257304.0</td>\n",
       "      <td>1.0</td>\n",
       "      <td>24.79</td>\n",
       "      <td>2017-09-01</td>\n",
       "      <td>1.0</td>\n",
       "      <td>24.79</td>\n",
       "      <td>24.79</td>\n",
       "      <td>1</td>\n",
       "      <td>46</td>\n",
       "      <td>50.522772</td>\n",
       "    </tr>\n",
       "    <tr>\n",
       "      <th>1</th>\n",
       "      <td>d0d7a76fea3729a9381d39aca78b52d3</td>\n",
       "      <td>4655291</td>\n",
       "      <td>21224156.0</td>\n",
       "      <td>1.0</td>\n",
       "      <td>22.68</td>\n",
       "      <td>2017-09-01</td>\n",
       "      <td>1.0</td>\n",
       "      <td>22.68</td>\n",
       "      <td>22.68</td>\n",
       "      <td>1</td>\n",
       "      <td>46</td>\n",
       "      <td>50.522772</td>\n",
       "    </tr>\n",
       "    <tr>\n",
       "      <th>2</th>\n",
       "      <td>450e1c2cbd21687780153995f1be0c23</td>\n",
       "      <td>4661361</td>\n",
       "      <td>21253627.0</td>\n",
       "      <td>1.0</td>\n",
       "      <td>10.07</td>\n",
       "      <td>2017-09-01</td>\n",
       "      <td>2.0</td>\n",
       "      <td>21.00</td>\n",
       "      <td>55.41</td>\n",
       "      <td>5</td>\n",
       "      <td>46</td>\n",
       "      <td>50.522772</td>\n",
       "    </tr>\n",
       "  </tbody>\n",
       "</table>\n",
       "</div>"
      ],
      "text/plain": [
       "                        customer_id  order_id  order_item_id  num_items  \\\n",
       "0  37d67f5feef4cb754056a54841e43ad9   4662083     21257304.0        1.0   \n",
       "1  d0d7a76fea3729a9381d39aca78b52d3   4655291     21224156.0        1.0   \n",
       "2  450e1c2cbd21687780153995f1be0c23   4661361     21253627.0        1.0   \n",
       "\n",
       "   revenue created_at_date  num_items_sum  revenue_max  revenue_total  \\\n",
       "0    24.79      2017-09-01            1.0        24.79          24.79   \n",
       "1    22.68      2017-09-01            1.0        22.68          22.68   \n",
       "2    10.07      2017-09-01            2.0        21.00          55.41   \n",
       "\n",
       "   order_id_total  day_since_last_order   gap_days  \n",
       "0               1                    46  50.522772  \n",
       "1               1                    46  50.522772  \n",
       "2               5                    46  50.522772  "
      ]
     },
     "execution_count": 172,
     "metadata": {},
     "output_type": "execute_result"
    }
   ],
   "source": [
    "dataset.head(3)"
   ]
  },
  {
   "cell_type": "code",
   "execution_count": 179,
   "metadata": {},
   "outputs": [
    {
     "data": {
      "text/plain": [
       "pandas.core.frame.DataFrame"
      ]
     },
     "execution_count": 179,
     "metadata": {},
     "output_type": "execute_result"
    }
   ],
   "source": [
    "type(dataset)"
   ]
  },
  {
   "cell_type": "code",
   "execution_count": 195,
   "metadata": {},
   "outputs": [],
   "source": [
    "jaja= dataset.loc[dataset['customer_id']==\"450e1c2cbd21687780153995f1be0c23\"]"
   ]
  },
  {
   "cell_type": "code",
   "execution_count": 200,
   "metadata": {},
   "outputs": [
    {
     "data": {
      "text/html": [
       "<div>\n",
       "<style scoped>\n",
       "    .dataframe tbody tr th:only-of-type {\n",
       "        vertical-align: middle;\n",
       "    }\n",
       "\n",
       "    .dataframe tbody tr th {\n",
       "        vertical-align: top;\n",
       "    }\n",
       "\n",
       "    .dataframe thead th {\n",
       "        text-align: right;\n",
       "    }\n",
       "</style>\n",
       "<table border=\"1\" class=\"dataframe\">\n",
       "  <thead>\n",
       "    <tr style=\"text-align: right;\">\n",
       "      <th></th>\n",
       "      <th>customer_id</th>\n",
       "      <th>order_id</th>\n",
       "      <th>order_item_id</th>\n",
       "      <th>num_items</th>\n",
       "      <th>revenue</th>\n",
       "      <th>created_at_date</th>\n",
       "      <th>num_items_sum</th>\n",
       "      <th>revenue_max</th>\n",
       "      <th>revenue_total</th>\n",
       "      <th>order_id_total</th>\n",
       "      <th>day_since_last_order</th>\n",
       "      <th>gap_days</th>\n",
       "    </tr>\n",
       "  </thead>\n",
       "  <tbody>\n",
       "    <tr>\n",
       "      <th>0</th>\n",
       "      <td>37d67f5feef4cb754056a54841e43ad9</td>\n",
       "      <td>4662083</td>\n",
       "      <td>21257304.0</td>\n",
       "      <td>1.0</td>\n",
       "      <td>24.79</td>\n",
       "      <td>2017-09-01</td>\n",
       "      <td>1.0</td>\n",
       "      <td>24.79</td>\n",
       "      <td>24.79</td>\n",
       "      <td>1</td>\n",
       "      <td>46</td>\n",
       "      <td>50.522772</td>\n",
       "    </tr>\n",
       "    <tr>\n",
       "      <th>1</th>\n",
       "      <td>d0d7a76fea3729a9381d39aca78b52d3</td>\n",
       "      <td>4655291</td>\n",
       "      <td>21224156.0</td>\n",
       "      <td>1.0</td>\n",
       "      <td>22.68</td>\n",
       "      <td>2017-09-01</td>\n",
       "      <td>1.0</td>\n",
       "      <td>22.68</td>\n",
       "      <td>22.68</td>\n",
       "      <td>1</td>\n",
       "      <td>46</td>\n",
       "      <td>50.522772</td>\n",
       "    </tr>\n",
       "  </tbody>\n",
       "</table>\n",
       "</div>"
      ],
      "text/plain": [
       "                        customer_id  order_id  order_item_id  num_items  \\\n",
       "0  37d67f5feef4cb754056a54841e43ad9   4662083     21257304.0        1.0   \n",
       "1  d0d7a76fea3729a9381d39aca78b52d3   4655291     21224156.0        1.0   \n",
       "\n",
       "   revenue created_at_date  num_items_sum  revenue_max  revenue_total  \\\n",
       "0    24.79      2017-09-01            1.0        24.79          24.79   \n",
       "1    22.68      2017-09-01            1.0        22.68          22.68   \n",
       "\n",
       "   order_id_total  day_since_last_order   gap_days  \n",
       "0               1                    46  50.522772  \n",
       "1               1                    46  50.522772  "
      ]
     },
     "execution_count": 200,
     "metadata": {},
     "output_type": "execute_result"
    }
   ],
   "source": [
    "dataset.head(2)"
   ]
  },
  {
   "cell_type": "code",
   "execution_count": 208,
   "metadata": {},
   "outputs": [
    {
     "data": {
      "text/plain": [
       "numpy.ndarray"
      ]
     },
     "execution_count": 208,
     "metadata": {},
     "output_type": "execute_result"
    }
   ],
   "source": [
    "type(dataset[['customer_id','order_id']].values)"
   ]
  },
  {
   "cell_type": "code",
   "execution_count": 209,
   "metadata": {},
   "outputs": [
    {
     "data": {
      "text/plain": [
       "array([['37d67f5feef4cb754056a54841e43ad9', 4662083],\n",
       "       ['d0d7a76fea3729a9381d39aca78b52d3', 4655291],\n",
       "       ['450e1c2cbd21687780153995f1be0c23', 4661361],\n",
       "       ..., \n",
       "       ['d04aacce88882e97c857fc89a429407f', 4986545],\n",
       "       ['66029fa806c4139dd607634338d31246', 4990011],\n",
       "       ['655ba4047d7abd2528a30a4251c22f79', 4987791]], dtype=object)"
      ]
     },
     "execution_count": 209,
     "metadata": {},
     "output_type": "execute_result"
    }
   ],
   "source": [
    "dataset[['customer_id','order_id']].values"
   ]
  },
  {
   "cell_type": "code",
   "execution_count": null,
   "metadata": {},
   "outputs": [],
   "source": []
  }
 ],
 "metadata": {
  "kernelspec": {
   "display_name": "Python 3",
   "language": "python",
   "name": "python3"
  },
  "language_info": {
   "codemirror_mode": {
    "name": "ipython",
    "version": 3
   },
   "file_extension": ".py",
   "mimetype": "text/x-python",
   "name": "python",
   "nbconvert_exporter": "python",
   "pygments_lexer": "ipython3",
   "version": "3.5.2"
  }
 },
 "nbformat": 4,
 "nbformat_minor": 2
}
